{
 "cells": [
  {
   "cell_type": "code",
   "id": "initial_id",
   "metadata": {
    "collapsed": true,
    "ExecuteTime": {
     "end_time": "2024-12-22T19:11:35.921972Z",
     "start_time": "2024-12-22T19:11:35.904154Z"
    }
   },
   "source": [
    "import pandas as pd\n",
    "import requests\n",
    "from bs4 import BeautifulSoup\n",
    "import re\n",
    "import logging\n",
    "from time import sleep"
   ],
   "outputs": [],
   "execution_count": 2
  },
  {
   "metadata": {
    "ExecuteTime": {
     "end_time": "2024-12-22T19:11:35.937601Z",
     "start_time": "2024-12-22T19:11:35.925974Z"
    }
   },
   "cell_type": "code",
   "source": [
    "# Set up logging\n",
    "logging.basicConfig(\n",
    "                    level=logging.INFO,\n",
    "                    format=\"%(asctime)s - %(message)s\",\n",
    "                    datefmt=\"%Y-%m-%d %H:%M:%S\",\n",
    "                    )"
   ],
   "id": "cfdc402e7a6e259a",
   "outputs": [],
   "execution_count": 3
  },
  {
   "metadata": {
    "ExecuteTime": {
     "end_time": "2024-12-22T19:11:36.636272Z",
     "start_time": "2024-12-22T19:11:35.956509Z"
    }
   },
   "cell_type": "code",
   "source": [
    "# Load link and find all the names of categories and their links\n",
    "url = 'https://www.kamazik.ru/zp/'\n",
    "r = requests.get(url)\n",
    "soup = BeautifulSoup(r.text, 'lxml')\n",
    "cats = soup.find('div', class_='col-lg-3 col-md-4 col-sm-4').findAll('li')        "
   ],
   "id": "75e6c6a1f419979a",
   "outputs": [],
   "execution_count": 4
  },
  {
   "metadata": {
    "ExecuteTime": {
     "end_time": "2024-12-22T19:11:36.697926Z",
     "start_time": "2024-12-22T19:11:36.684295Z"
    }
   },
   "cell_type": "code",
   "source": "cats",
   "id": "cabe8b5a85627760",
   "outputs": [
    {
     "data": {
      "text/plain": [
       "[<li><a href=\"/zp/gruppa_aksessuary/\"><span></span>АКСЕССУАРЫ</a></li>,\n",
       " <li><a href=\"/zp/gruppa_gsm_smazki_i_zhidkosti/\"><span></span>ГСМ (смазки и жидкости)</a></li>,\n",
       " <li><a href=\"/zp/gruppa_katalogi_i_rukovodstvo/\"><span></span>КАТАЛОГИ И РУКОВОДСТВО</a></li>,\n",
       " <li><a href=\"/zp/gruppa_10_dvigatel/\"><span>10</span>ДВИГАТЕЛЬ</a></li>,\n",
       " <li><a href=\"/zp/gruppa_11_sistema_pitaniya/\"><span>11</span>СИСТЕМА ПИТАНИЯ</a></li>,\n",
       " <li><a href=\"/zp/gruppa_12_sistema_vypuska_gaza/\"><span>12</span>СИСТЕМА ВЫПУСКА ГАЗА</a></li>,\n",
       " <li><a href=\"/zp/gruppa_13_sistema_okhlazhdeniya/\"><span>13</span>СИСТЕМА ОХЛАЖДЕНИЯ</a></li>,\n",
       " <li><a href=\"/zp/gruppa_16_stseplenie/\"><span>16</span>СЦЕПЛЕНИЕ</a></li>,\n",
       " <li><a href=\"/zp/gruppa_17_korobka_peredach/\"><span>17</span>КОРОБКА ПЕРЕДАЧ</a></li>,\n",
       " <li><a href=\"/zp/gruppa_18_korobka_razdatochnaya/\"><span>18</span>КОРОБКА РАЗДАТОЧНАЯ</a></li>,\n",
       " <li><a href=\"/zp/gruppa_22_valy_kardannye/\"><span>22</span>ВАЛЫ КАРДАННЫЕ</a></li>,\n",
       " <li><a href=\"/zp/gruppa_23_most_peredniy/\"><span>23</span>МОСТ ПЕРЕДНИЙ</a></li>,\n",
       " <li><a href=\"/zp/gruppa_24_most_zadniy/\"><span>24</span>МОСТ ЗАДНИЙ</a></li>,\n",
       " <li><a href=\"/zp/gruppa_25_most_sredniy/\"><span>25</span>МОСТ СРЕДНИЙ</a></li>,\n",
       " <li><a href=\"/zp/gruppa_27_ustroystvo_sedelnoe/\"><span>27</span>УСТРОЙСТВО СЕДЕЛЬНОЕ</a></li>,\n",
       " <li><a href=\"/zp/gruppa_28_rama/\"><span>28</span>РАМА</a></li>,\n",
       " <li><a href=\"/zp/gruppa_29_podveska/\"><span>29</span>ПОДВЕСКА</a></li>,\n",
       " <li><a href=\"/zp/gruppa_30_os_perednyaya/\"><span>30</span>ОСЬ ПЕРЕДНЯЯ</a></li>,\n",
       " <li><a href=\"/zp/gruppa_31_kolesa_i_stupitsy/\"><span>31</span>КОЛЕСА И СТУПИЦЫ</a></li>,\n",
       " <li><a href=\"/zp/gruppa_34_upravlenie_rulevoe/\"><span>34</span>УПРАВЛЕНИЕ РУЛЕВОЕ</a></li>,\n",
       " <li><a href=\"/zp/gruppa_35_sistema_tormoznaya/\"><span>35</span>СИСТЕМА ТОРМОЗНАЯ</a></li>,\n",
       " <li><a href=\"/zp/gruppa_37_elektrooborudovanie/\"><span>37</span>ЭЛЕКТРООБОРУДОВАНИЕ</a></li>,\n",
       " <li><a href=\"/zp/gruppa_38_pribory/\"><span>38</span>ПРИБОРЫ</a></li>,\n",
       " <li><a href=\"/zp/gruppa_39_voditelskiy_instrument/\"><span>39</span>ВОДИТЕЛЬСКИЙ ИНСТРУМЕНТ</a></li>,\n",
       " <li><a href=\"/zp/gruppa_50_57_kabina/\"><span>50-57</span>КАБИНА</a></li>,\n",
       " <li><a href=\"/zp/gruppa_61_dver_kabiny/\"><span>61</span>ДВЕРЬ КАБИНЫ</a></li>,\n",
       " <li><a href=\"/zp/gruppa_68_sidene_voditelya/\"><span>68</span>СИДЕНЬЕ ВОДИТЕЛЯ</a></li>,\n",
       " <li><a href=\"/zp/gruppa_80_obtekateli_i_spoylery/\"><span>80</span>ОБТЕКАТЕЛИ И СПОЙЛЕРЫ</a></li>,\n",
       " <li><a href=\"/zp/gruppa_81_otoplenie_i_ventilyatsiya/\"><span>81</span>ОТОПЛЕНИЕ И ВЕНТИЛЯЦИЯ</a></li>,\n",
       " <li><a href=\"/zp/gruppa_82_prinadlezhnosti_kabiny/\"><span>82</span>ПРИНАДЛЕЖНОСТИ КАБИНЫ</a></li>,\n",
       " <li><a href=\"/zp/gruppa_84_operenie/\"><span>84</span>ОПЕРЕНИЕ</a></li>,\n",
       " <li><a href=\"/zp/gruppa_85_platforma/\"><span>85</span>ПЛАТФОРМА</a></li>,\n",
       " <li><a href=\"/zp/gruppa_86_mekhanizm_podema_platformy/\"><span>86</span>МЕХАНИЗМ ПОДЪЕМА ПЛАТФОРМЫ</a></li>]"
      ]
     },
     "execution_count": 5,
     "metadata": {},
     "output_type": "execute_result"
    }
   ],
   "execution_count": 5
  },
  {
   "metadata": {
    "ExecuteTime": {
     "end_time": "2024-12-22T19:11:36.792161Z",
     "start_time": "2024-12-22T19:11:36.770650Z"
    }
   },
   "cell_type": "code",
   "source": [
    "# Get the categories names\n",
    "cat_names = ([a.get_text(strip=False).split(maxsplit=0)[-1] \n",
    "              for a in soup.select('ul.catalog li a')]\n",
    "            )\n",
    "cat_names = [re.sub(r'^(\\d+)', r'\\1 ', cat) for cat in cat_names]\n",
    "print(cat_names)"
   ],
   "id": "3993ca35d826f410",
   "outputs": [
    {
     "name": "stdout",
     "output_type": "stream",
     "text": [
      "['АКСЕССУАРЫ', 'ГСМ (смазки и жидкости)', 'КАТАЛОГИ И РУКОВОДСТВО', '10 ДВИГАТЕЛЬ', '11 СИСТЕМА ПИТАНИЯ', '12 СИСТЕМА ВЫПУСКА ГАЗА', '13 СИСТЕМА ОХЛАЖДЕНИЯ', '16 СЦЕПЛЕНИЕ', '17 КОРОБКА ПЕРЕДАЧ', '18 КОРОБКА РАЗДАТОЧНАЯ', '22 ВАЛЫ КАРДАННЫЕ', '23 МОСТ ПЕРЕДНИЙ', '24 МОСТ ЗАДНИЙ', '25 МОСТ СРЕДНИЙ', '27 УСТРОЙСТВО СЕДЕЛЬНОЕ', '28 РАМА', '29 ПОДВЕСКА', '30 ОСЬ ПЕРЕДНЯЯ', '31 КОЛЕСА И СТУПИЦЫ', '34 УПРАВЛЕНИЕ РУЛЕВОЕ', '35 СИСТЕМА ТОРМОЗНАЯ', '37 ЭЛЕКТРООБОРУДОВАНИЕ', '38 ПРИБОРЫ', '39 ВОДИТЕЛЬСКИЙ ИНСТРУМЕНТ', '50 -57КАБИНА', '61 ДВЕРЬ КАБИНЫ', '68 СИДЕНЬЕ ВОДИТЕЛЯ', '80 ОБТЕКАТЕЛИ И СПОЙЛЕРЫ', '81 ОТОПЛЕНИЕ И ВЕНТИЛЯЦИЯ', '82 ПРИНАДЛЕЖНОСТИ КАБИНЫ', '84 ОПЕРЕНИЕ', '85 ПЛАТФОРМА', '86 МЕХАНИЗМ ПОДЪЕМА ПЛАТФОРМЫ']\n"
     ]
    }
   ],
   "execution_count": 6
  },
  {
   "metadata": {
    "ExecuteTime": {
     "end_time": "2024-12-22T19:11:36.839887Z",
     "start_time": "2024-12-22T19:11:36.824857Z"
    }
   },
   "cell_type": "code",
   "source": [
    "# Get the categories links\n",
    "cat_links = [link.find('a').get('href') for link in cats]\n",
    "cat_links[:5]"
   ],
   "id": "ed8dc7f9a884d645",
   "outputs": [
    {
     "data": {
      "text/plain": [
       "['/zp/gruppa_aksessuary/',\n",
       " '/zp/gruppa_gsm_smazki_i_zhidkosti/',\n",
       " '/zp/gruppa_katalogi_i_rukovodstvo/',\n",
       " '/zp/gruppa_10_dvigatel/',\n",
       " '/zp/gruppa_11_sistema_pitaniya/']"
      ]
     },
     "execution_count": 7,
     "metadata": {},
     "output_type": "execute_result"
    }
   ],
   "execution_count": 7
  },
  {
   "metadata": {
    "ExecuteTime": {
     "end_time": "2024-12-22T19:13:43.488238Z",
     "start_time": "2024-12-22T19:11:36.871978Z"
    }
   },
   "cell_type": "code",
   "source": [
    "# Parse all the necessary information\n",
    "data = []\n",
    "\n",
    "# Loop through links and category names \n",
    "for l, cat_name in zip(cat_links, cat_names):\n",
    "    # Use f-string to construct all the categories links\n",
    "    page_url = f'https://www.kamazik.ru{l}'\n",
    "    r_2 = requests.get(page_url)\n",
    "    soup_2 = BeautifulSoup(r_2.text, 'lxml')\n",
    "    \n",
    "    # Log category and page URL\n",
    "    logging.info(f\"Processing category: {cat_name}, Page URL: {page_url}\")\n",
    "    \n",
    "    # Loop through second 2 pages of each category\n",
    "    for p in range(1, 3):\n",
    "        # Use f-string to construct for each category a pagination\n",
    "        item_url = f'{page_url}?PAGEN_1={p}'\n",
    "        r_3 = requests.get(item_url)\n",
    "        sleep(1)\n",
    "        soup_3 = BeautifulSoup(r_3.text, 'lxml')\n",
    "        items = soup_3.findAll('div', class_='card')\n",
    "        \n",
    "        # Log last page of item URL\n",
    "        if p == range(1, 3)[-1]:\n",
    "            logging.info(f\"Processing last pagination: {item_url}\")\n",
    "        \n",
    "        # Use list comprehension to extract information for each category and items\n",
    "        # and add it to data list\n",
    "        data.extend(\n",
    "            [\n",
    "                [\n",
    "                    cat_name,\n",
    "                    item.find('div', class_='name').find('a').text.strip(),\n",
    "                    item.find('div', class_='artikul').text.strip().replace('артикул', '').strip(),\n",
    "                    item.find('div', class_='price').text.strip().replace('цена', '').strip(),\n",
    "                ]\n",
    "                for item in items\n",
    "            ]\n",
    "        )   "
   ],
   "id": "38892762bfa2e341",
   "outputs": [
    {
     "name": "stderr",
     "output_type": "stream",
     "text": [
      "2024-12-22 20:11:37 - Processing category: АКСЕССУАРЫ, Page URL: https://www.kamazik.ru/zp/gruppa_aksessuary/\n",
      "2024-12-22 20:11:40 - Processing last pagination: https://www.kamazik.ru/zp/gruppa_aksessuary/?PAGEN_1=2\n",
      "2024-12-22 20:11:41 - Processing category: ГСМ (смазки и жидкости), Page URL: https://www.kamazik.ru/zp/gruppa_gsm_smazki_i_zhidkosti/\n",
      "2024-12-22 20:11:44 - Processing last pagination: https://www.kamazik.ru/zp/gruppa_gsm_smazki_i_zhidkosti/?PAGEN_1=2\n",
      "2024-12-22 20:11:45 - Processing category: КАТАЛОГИ И РУКОВОДСТВО, Page URL: https://www.kamazik.ru/zp/gruppa_katalogi_i_rukovodstvo/\n",
      "2024-12-22 20:11:48 - Processing last pagination: https://www.kamazik.ru/zp/gruppa_katalogi_i_rukovodstvo/?PAGEN_1=2\n",
      "2024-12-22 20:11:49 - Processing category: 10 ДВИГАТЕЛЬ, Page URL: https://www.kamazik.ru/zp/gruppa_10_dvigatel/\n",
      "2024-12-22 20:11:52 - Processing last pagination: https://www.kamazik.ru/zp/gruppa_10_dvigatel/?PAGEN_1=2\n",
      "2024-12-22 20:11:52 - Processing category: 11 СИСТЕМА ПИТАНИЯ, Page URL: https://www.kamazik.ru/zp/gruppa_11_sistema_pitaniya/\n",
      "2024-12-22 20:11:56 - Processing last pagination: https://www.kamazik.ru/zp/gruppa_11_sistema_pitaniya/?PAGEN_1=2\n",
      "2024-12-22 20:11:56 - Processing category: 12 СИСТЕМА ВЫПУСКА ГАЗА, Page URL: https://www.kamazik.ru/zp/gruppa_12_sistema_vypuska_gaza/\n",
      "2024-12-22 20:11:59 - Processing last pagination: https://www.kamazik.ru/zp/gruppa_12_sistema_vypuska_gaza/?PAGEN_1=2\n",
      "2024-12-22 20:12:00 - Processing category: 13 СИСТЕМА ОХЛАЖДЕНИЯ, Page URL: https://www.kamazik.ru/zp/gruppa_13_sistema_okhlazhdeniya/\n",
      "2024-12-22 20:12:03 - Processing last pagination: https://www.kamazik.ru/zp/gruppa_13_sistema_okhlazhdeniya/?PAGEN_1=2\n",
      "2024-12-22 20:12:04 - Processing category: 16 СЦЕПЛЕНИЕ, Page URL: https://www.kamazik.ru/zp/gruppa_16_stseplenie/\n",
      "2024-12-22 20:12:07 - Processing last pagination: https://www.kamazik.ru/zp/gruppa_16_stseplenie/?PAGEN_1=2\n",
      "2024-12-22 20:12:08 - Processing category: 17 КОРОБКА ПЕРЕДАЧ, Page URL: https://www.kamazik.ru/zp/gruppa_17_korobka_peredach/\n",
      "2024-12-22 20:12:11 - Processing last pagination: https://www.kamazik.ru/zp/gruppa_17_korobka_peredach/?PAGEN_1=2\n",
      "2024-12-22 20:12:11 - Processing category: 18 КОРОБКА РАЗДАТОЧНАЯ, Page URL: https://www.kamazik.ru/zp/gruppa_18_korobka_razdatochnaya/\n",
      "2024-12-22 20:12:15 - Processing last pagination: https://www.kamazik.ru/zp/gruppa_18_korobka_razdatochnaya/?PAGEN_1=2\n",
      "2024-12-22 20:12:15 - Processing category: 22 ВАЛЫ КАРДАННЫЕ, Page URL: https://www.kamazik.ru/zp/gruppa_22_valy_kardannye/\n",
      "2024-12-22 20:12:18 - Processing last pagination: https://www.kamazik.ru/zp/gruppa_22_valy_kardannye/?PAGEN_1=2\n",
      "2024-12-22 20:12:19 - Processing category: 23 МОСТ ПЕРЕДНИЙ, Page URL: https://www.kamazik.ru/zp/gruppa_23_most_peredniy/\n",
      "2024-12-22 20:12:22 - Processing last pagination: https://www.kamazik.ru/zp/gruppa_23_most_peredniy/?PAGEN_1=2\n",
      "2024-12-22 20:12:23 - Processing category: 24 МОСТ ЗАДНИЙ, Page URL: https://www.kamazik.ru/zp/gruppa_24_most_zadniy/\n",
      "2024-12-22 20:12:26 - Processing last pagination: https://www.kamazik.ru/zp/gruppa_24_most_zadniy/?PAGEN_1=2\n",
      "2024-12-22 20:12:27 - Processing category: 25 МОСТ СРЕДНИЙ, Page URL: https://www.kamazik.ru/zp/gruppa_25_most_sredniy/\n",
      "2024-12-22 20:12:30 - Processing last pagination: https://www.kamazik.ru/zp/gruppa_25_most_sredniy/?PAGEN_1=2\n",
      "2024-12-22 20:12:30 - Processing category: 27 УСТРОЙСТВО СЕДЕЛЬНОЕ, Page URL: https://www.kamazik.ru/zp/gruppa_27_ustroystvo_sedelnoe/\n",
      "2024-12-22 20:12:34 - Processing last pagination: https://www.kamazik.ru/zp/gruppa_27_ustroystvo_sedelnoe/?PAGEN_1=2\n",
      "2024-12-22 20:12:34 - Processing category: 28 РАМА, Page URL: https://www.kamazik.ru/zp/gruppa_28_rama/\n",
      "2024-12-22 20:12:37 - Processing last pagination: https://www.kamazik.ru/zp/gruppa_28_rama/?PAGEN_1=2\n",
      "2024-12-22 20:12:38 - Processing category: 29 ПОДВЕСКА, Page URL: https://www.kamazik.ru/zp/gruppa_29_podveska/\n",
      "2024-12-22 20:12:41 - Processing last pagination: https://www.kamazik.ru/zp/gruppa_29_podveska/?PAGEN_1=2\n",
      "2024-12-22 20:12:42 - Processing category: 30 ОСЬ ПЕРЕДНЯЯ, Page URL: https://www.kamazik.ru/zp/gruppa_30_os_perednyaya/\n",
      "2024-12-22 20:12:45 - Processing last pagination: https://www.kamazik.ru/zp/gruppa_30_os_perednyaya/?PAGEN_1=2\n",
      "2024-12-22 20:12:46 - Processing category: 31 КОЛЕСА И СТУПИЦЫ, Page URL: https://www.kamazik.ru/zp/gruppa_31_kolesa_i_stupitsy/\n",
      "2024-12-22 20:12:49 - Processing last pagination: https://www.kamazik.ru/zp/gruppa_31_kolesa_i_stupitsy/?PAGEN_1=2\n",
      "2024-12-22 20:12:49 - Processing category: 34 УПРАВЛЕНИЕ РУЛЕВОЕ, Page URL: https://www.kamazik.ru/zp/gruppa_34_upravlenie_rulevoe/\n",
      "2024-12-22 20:12:53 - Processing last pagination: https://www.kamazik.ru/zp/gruppa_34_upravlenie_rulevoe/?PAGEN_1=2\n",
      "2024-12-22 20:12:53 - Processing category: 35 СИСТЕМА ТОРМОЗНАЯ, Page URL: https://www.kamazik.ru/zp/gruppa_35_sistema_tormoznaya/\n",
      "2024-12-22 20:12:56 - Processing last pagination: https://www.kamazik.ru/zp/gruppa_35_sistema_tormoznaya/?PAGEN_1=2\n",
      "2024-12-22 20:12:57 - Processing category: 37 ЭЛЕКТРООБОРУДОВАНИЕ, Page URL: https://www.kamazik.ru/zp/gruppa_37_elektrooborudovanie/\n",
      "2024-12-22 20:13:01 - Processing last pagination: https://www.kamazik.ru/zp/gruppa_37_elektrooborudovanie/?PAGEN_1=2\n",
      "2024-12-22 20:13:02 - Processing category: 38 ПРИБОРЫ, Page URL: https://www.kamazik.ru/zp/gruppa_38_pribory/\n",
      "2024-12-22 20:13:05 - Processing last pagination: https://www.kamazik.ru/zp/gruppa_38_pribory/?PAGEN_1=2\n",
      "2024-12-22 20:13:06 - Processing category: 39 ВОДИТЕЛЬСКИЙ ИНСТРУМЕНТ, Page URL: https://www.kamazik.ru/zp/gruppa_39_voditelskiy_instrument/\n",
      "2024-12-22 20:13:09 - Processing last pagination: https://www.kamazik.ru/zp/gruppa_39_voditelskiy_instrument/?PAGEN_1=2\n",
      "2024-12-22 20:13:10 - Processing category: 50 -57КАБИНА, Page URL: https://www.kamazik.ru/zp/gruppa_50_57_kabina/\n",
      "2024-12-22 20:13:13 - Processing last pagination: https://www.kamazik.ru/zp/gruppa_50_57_kabina/?PAGEN_1=2\n",
      "2024-12-22 20:13:13 - Processing category: 61 ДВЕРЬ КАБИНЫ, Page URL: https://www.kamazik.ru/zp/gruppa_61_dver_kabiny/\n",
      "2024-12-22 20:13:16 - Processing last pagination: https://www.kamazik.ru/zp/gruppa_61_dver_kabiny/?PAGEN_1=2\n",
      "2024-12-22 20:13:17 - Processing category: 68 СИДЕНЬЕ ВОДИТЕЛЯ, Page URL: https://www.kamazik.ru/zp/gruppa_68_sidene_voditelya/\n",
      "2024-12-22 20:13:20 - Processing last pagination: https://www.kamazik.ru/zp/gruppa_68_sidene_voditelya/?PAGEN_1=2\n",
      "2024-12-22 20:13:21 - Processing category: 80 ОБТЕКАТЕЛИ И СПОЙЛЕРЫ, Page URL: https://www.kamazik.ru/zp/gruppa_80_obtekateli_i_spoylery/\n",
      "2024-12-22 20:13:24 - Processing last pagination: https://www.kamazik.ru/zp/gruppa_80_obtekateli_i_spoylery/?PAGEN_1=2\n",
      "2024-12-22 20:13:25 - Processing category: 81 ОТОПЛЕНИЕ И ВЕНТИЛЯЦИЯ, Page URL: https://www.kamazik.ru/zp/gruppa_81_otoplenie_i_ventilyatsiya/\n",
      "2024-12-22 20:13:28 - Processing last pagination: https://www.kamazik.ru/zp/gruppa_81_otoplenie_i_ventilyatsiya/?PAGEN_1=2\n",
      "2024-12-22 20:13:28 - Processing category: 82 ПРИНАДЛЕЖНОСТИ КАБИНЫ, Page URL: https://www.kamazik.ru/zp/gruppa_82_prinadlezhnosti_kabiny/\n",
      "2024-12-22 20:13:32 - Processing last pagination: https://www.kamazik.ru/zp/gruppa_82_prinadlezhnosti_kabiny/?PAGEN_1=2\n",
      "2024-12-22 20:13:32 - Processing category: 84 ОПЕРЕНИЕ, Page URL: https://www.kamazik.ru/zp/gruppa_84_operenie/\n",
      "2024-12-22 20:13:35 - Processing last pagination: https://www.kamazik.ru/zp/gruppa_84_operenie/?PAGEN_1=2\n",
      "2024-12-22 20:13:36 - Processing category: 85 ПЛАТФОРМА, Page URL: https://www.kamazik.ru/zp/gruppa_85_platforma/\n",
      "2024-12-22 20:13:39 - Processing last pagination: https://www.kamazik.ru/zp/gruppa_85_platforma/?PAGEN_1=2\n",
      "2024-12-22 20:13:40 - Processing category: 86 МЕХАНИЗМ ПОДЪЕМА ПЛАТФОРМЫ, Page URL: https://www.kamazik.ru/zp/gruppa_86_mekhanizm_podema_platformy/\n",
      "2024-12-22 20:13:43 - Processing last pagination: https://www.kamazik.ru/zp/gruppa_86_mekhanizm_podema_platformy/?PAGEN_1=2\n"
     ]
    }
   ],
   "execution_count": 8
  },
  {
   "metadata": {
    "ExecuteTime": {
     "end_time": "2024-12-22T19:13:43.582817Z",
     "start_time": "2024-12-22T19:13:43.569423Z"
    }
   },
   "cell_type": "code",
   "source": "len(data)",
   "id": "54abb47af71f54ab",
   "outputs": [
    {
     "data": {
      "text/plain": [
       "1126"
      ]
     },
     "execution_count": 9,
     "metadata": {},
     "output_type": "execute_result"
    }
   ],
   "execution_count": 9
  },
  {
   "metadata": {
    "ExecuteTime": {
     "end_time": "2024-12-22T19:13:43.677424Z",
     "start_time": "2024-12-22T19:13:43.647327Z"
    }
   },
   "cell_type": "code",
   "source": [
    "# Build a dataframe\n",
    "df = pd.DataFrame(data, columns=['category', 'title', 'part_number', 'price'])\n",
    "df.head(5)"
   ],
   "id": "a699ed1ce535656a",
   "outputs": [
    {
     "data": {
      "text/plain": [
       "     category                                       title   part_number  \\\n",
       "0  АКСЕССУАРЫ  Футболка FIRST KAMAZ 54901 черная (56 р-р)  333.04180600   \n",
       "1  АКСЕССУАРЫ  Футболка FIRST KAMAZ 54901 черная (54 р-р)  333.04180600   \n",
       "2  АКСЕССУАРЫ  Футболка FIRST KAMAZ 54901 черная (52 р-р)  333.04180600   \n",
       "3  АКСЕССУАРЫ   Футболка FIRST KAMAZ 54901 белая (56 р-р)  333.04180200   \n",
       "4  АКСЕССУАРЫ   Футболка FIRST KAMAZ 54901 белая (54 р-р)  333.04180200   \n",
       "\n",
       "        price  \n",
       "0  3 479 руб.  \n",
       "1  2 790 руб.  \n",
       "2  2 441 руб.  \n",
       "3  3 479 руб.  \n",
       "4  3 479 руб.  "
      ],
      "text/html": [
       "<div>\n",
       "<style scoped>\n",
       "    .dataframe tbody tr th:only-of-type {\n",
       "        vertical-align: middle;\n",
       "    }\n",
       "\n",
       "    .dataframe tbody tr th {\n",
       "        vertical-align: top;\n",
       "    }\n",
       "\n",
       "    .dataframe thead th {\n",
       "        text-align: right;\n",
       "    }\n",
       "</style>\n",
       "<table border=\"1\" class=\"dataframe\">\n",
       "  <thead>\n",
       "    <tr style=\"text-align: right;\">\n",
       "      <th></th>\n",
       "      <th>category</th>\n",
       "      <th>title</th>\n",
       "      <th>part_number</th>\n",
       "      <th>price</th>\n",
       "    </tr>\n",
       "  </thead>\n",
       "  <tbody>\n",
       "    <tr>\n",
       "      <th>0</th>\n",
       "      <td>АКСЕССУАРЫ</td>\n",
       "      <td>Футболка FIRST KAMAZ 54901 черная (56 р-р)</td>\n",
       "      <td>333.04180600</td>\n",
       "      <td>3 479 руб.</td>\n",
       "    </tr>\n",
       "    <tr>\n",
       "      <th>1</th>\n",
       "      <td>АКСЕССУАРЫ</td>\n",
       "      <td>Футболка FIRST KAMAZ 54901 черная (54 р-р)</td>\n",
       "      <td>333.04180600</td>\n",
       "      <td>2 790 руб.</td>\n",
       "    </tr>\n",
       "    <tr>\n",
       "      <th>2</th>\n",
       "      <td>АКСЕССУАРЫ</td>\n",
       "      <td>Футболка FIRST KAMAZ 54901 черная (52 р-р)</td>\n",
       "      <td>333.04180600</td>\n",
       "      <td>2 441 руб.</td>\n",
       "    </tr>\n",
       "    <tr>\n",
       "      <th>3</th>\n",
       "      <td>АКСЕССУАРЫ</td>\n",
       "      <td>Футболка FIRST KAMAZ 54901 белая (56 р-р)</td>\n",
       "      <td>333.04180200</td>\n",
       "      <td>3 479 руб.</td>\n",
       "    </tr>\n",
       "    <tr>\n",
       "      <th>4</th>\n",
       "      <td>АКСЕССУАРЫ</td>\n",
       "      <td>Футболка FIRST KAMAZ 54901 белая (54 р-р)</td>\n",
       "      <td>333.04180200</td>\n",
       "      <td>3 479 руб.</td>\n",
       "    </tr>\n",
       "  </tbody>\n",
       "</table>\n",
       "</div>"
      ]
     },
     "execution_count": 10,
     "metadata": {},
     "output_type": "execute_result"
    }
   ],
   "execution_count": 10
  },
  {
   "metadata": {
    "ExecuteTime": {
     "end_time": "2024-12-22T19:13:43.802275Z",
     "start_time": "2024-12-22T19:13:43.788691Z"
    }
   },
   "cell_type": "code",
   "source": "len(df)",
   "id": "b5a984d5fa3f39d2",
   "outputs": [
    {
     "data": {
      "text/plain": [
       "1126"
      ]
     },
     "execution_count": 11,
     "metadata": {},
     "output_type": "execute_result"
    }
   ],
   "execution_count": 11
  },
  {
   "metadata": {
    "ExecuteTime": {
     "end_time": "2024-12-22T19:13:43.849915Z",
     "start_time": "2024-12-22T19:13:43.835788Z"
    }
   },
   "cell_type": "code",
   "source": [
    "# Check data\n",
    "df[25:40]"
   ],
   "id": "9170d88aa3edd2b5",
   "outputs": [
    {
     "data": {
      "text/plain": [
       "                   category  \\\n",
       "25               АКСЕССУАРЫ   \n",
       "26               АКСЕССУАРЫ   \n",
       "27               АКСЕССУАРЫ   \n",
       "28               АКСЕССУАРЫ   \n",
       "29               АКСЕССУАРЫ   \n",
       "30               АКСЕССУАРЫ   \n",
       "31               АКСЕССУАРЫ   \n",
       "32               АКСЕССУАРЫ   \n",
       "33               АКСЕССУАРЫ   \n",
       "34               АКСЕССУАРЫ   \n",
       "35               АКСЕССУАРЫ   \n",
       "36  ГСМ (смазки и жидкости)   \n",
       "37  ГСМ (смазки и жидкости)   \n",
       "38  ГСМ (смазки и жидкости)   \n",
       "39  ГСМ (смазки и жидкости)   \n",
       "\n",
       "                                                title   part_number  \\\n",
       "25  Кабель для зарядки 3 в 1 (Type C, MicroUSB, iP...         20354   \n",
       "26                Дефлектор (большой угол) КамАЗ-5490         20859   \n",
       "27          Масштабная модель 4326 КамАЗ-МАСТЕР № 505  333.10050102   \n",
       "28                    Кепка (цвет синий) КамАЗ-МАСТЕР  333.03050100   \n",
       "29      Масштабная модель KAMAZ -5490 белый эксклюзив   777.SSM1294   \n",
       "30         Масштабная модель МКМ-4503-43253 мусоровоз    777.101975   \n",
       "31              Игрушка-масштабная модель КАМАЗ-65206    777.101951   \n",
       "32               Игрушка-масштабная модель КАМАЗ-5490    777.101944   \n",
       "33              Игрушка-масштабная модель КАМАЗ-43502    777.101630   \n",
       "34          Масштабная модель 4326 \"КАМАЗ-Мастер\" 505  333.10050102   \n",
       "35   Ветровка демисезонная \"КАМАЗ-Мастер\" (размер 48)  333.09110100   \n",
       "36  Масло трансмиссиионное 75W-90 GFT (API GL-4/GL...        192629   \n",
       "37       Масло трансмиссионное LUKOIL MN 75W-90 КамАЗ       3505928   \n",
       "38  Масло моторное KAMAZ G-Profi Service Line NEO ...     253190694   \n",
       "39  Масло трансмиссионное KAMAZ G-PROFI SL 80W-90 ...     253650125   \n",
       "\n",
       "          price  \n",
       "25               \n",
       "26               \n",
       "27               \n",
       "28               \n",
       "29   8 148 руб.  \n",
       "30   6 006 руб.  \n",
       "31   3 019 руб.  \n",
       "32   4 891 руб.  \n",
       "33   4 551 руб.  \n",
       "34   5 492 руб.  \n",
       "35  13 701 руб.  \n",
       "36   1 103 руб.  \n",
       "37   1 526 руб.  \n",
       "38     677 руб.  \n",
       "39     370 руб.  "
      ],
      "text/html": [
       "<div>\n",
       "<style scoped>\n",
       "    .dataframe tbody tr th:only-of-type {\n",
       "        vertical-align: middle;\n",
       "    }\n",
       "\n",
       "    .dataframe tbody tr th {\n",
       "        vertical-align: top;\n",
       "    }\n",
       "\n",
       "    .dataframe thead th {\n",
       "        text-align: right;\n",
       "    }\n",
       "</style>\n",
       "<table border=\"1\" class=\"dataframe\">\n",
       "  <thead>\n",
       "    <tr style=\"text-align: right;\">\n",
       "      <th></th>\n",
       "      <th>category</th>\n",
       "      <th>title</th>\n",
       "      <th>part_number</th>\n",
       "      <th>price</th>\n",
       "    </tr>\n",
       "  </thead>\n",
       "  <tbody>\n",
       "    <tr>\n",
       "      <th>25</th>\n",
       "      <td>АКСЕССУАРЫ</td>\n",
       "      <td>Кабель для зарядки 3 в 1 (Type C, MicroUSB, iP...</td>\n",
       "      <td>20354</td>\n",
       "      <td></td>\n",
       "    </tr>\n",
       "    <tr>\n",
       "      <th>26</th>\n",
       "      <td>АКСЕССУАРЫ</td>\n",
       "      <td>Дефлектор (большой угол) КамАЗ-5490</td>\n",
       "      <td>20859</td>\n",
       "      <td></td>\n",
       "    </tr>\n",
       "    <tr>\n",
       "      <th>27</th>\n",
       "      <td>АКСЕССУАРЫ</td>\n",
       "      <td>Масштабная модель 4326 КамАЗ-МАСТЕР № 505</td>\n",
       "      <td>333.10050102</td>\n",
       "      <td></td>\n",
       "    </tr>\n",
       "    <tr>\n",
       "      <th>28</th>\n",
       "      <td>АКСЕССУАРЫ</td>\n",
       "      <td>Кепка (цвет синий) КамАЗ-МАСТЕР</td>\n",
       "      <td>333.03050100</td>\n",
       "      <td></td>\n",
       "    </tr>\n",
       "    <tr>\n",
       "      <th>29</th>\n",
       "      <td>АКСЕССУАРЫ</td>\n",
       "      <td>Масштабная модель KAMAZ -5490 белый эксклюзив</td>\n",
       "      <td>777.SSM1294</td>\n",
       "      <td>8 148 руб.</td>\n",
       "    </tr>\n",
       "    <tr>\n",
       "      <th>30</th>\n",
       "      <td>АКСЕССУАРЫ</td>\n",
       "      <td>Масштабная модель МКМ-4503-43253 мусоровоз</td>\n",
       "      <td>777.101975</td>\n",
       "      <td>6 006 руб.</td>\n",
       "    </tr>\n",
       "    <tr>\n",
       "      <th>31</th>\n",
       "      <td>АКСЕССУАРЫ</td>\n",
       "      <td>Игрушка-масштабная модель КАМАЗ-65206</td>\n",
       "      <td>777.101951</td>\n",
       "      <td>3 019 руб.</td>\n",
       "    </tr>\n",
       "    <tr>\n",
       "      <th>32</th>\n",
       "      <td>АКСЕССУАРЫ</td>\n",
       "      <td>Игрушка-масштабная модель КАМАЗ-5490</td>\n",
       "      <td>777.101944</td>\n",
       "      <td>4 891 руб.</td>\n",
       "    </tr>\n",
       "    <tr>\n",
       "      <th>33</th>\n",
       "      <td>АКСЕССУАРЫ</td>\n",
       "      <td>Игрушка-масштабная модель КАМАЗ-43502</td>\n",
       "      <td>777.101630</td>\n",
       "      <td>4 551 руб.</td>\n",
       "    </tr>\n",
       "    <tr>\n",
       "      <th>34</th>\n",
       "      <td>АКСЕССУАРЫ</td>\n",
       "      <td>Масштабная модель 4326 \"КАМАЗ-Мастер\" 505</td>\n",
       "      <td>333.10050102</td>\n",
       "      <td>5 492 руб.</td>\n",
       "    </tr>\n",
       "    <tr>\n",
       "      <th>35</th>\n",
       "      <td>АКСЕССУАРЫ</td>\n",
       "      <td>Ветровка демисезонная \"КАМАЗ-Мастер\" (размер 48)</td>\n",
       "      <td>333.09110100</td>\n",
       "      <td>13 701 руб.</td>\n",
       "    </tr>\n",
       "    <tr>\n",
       "      <th>36</th>\n",
       "      <td>ГСМ (смазки и жидкости)</td>\n",
       "      <td>Масло трансмиссиионное 75W-90 GFT (API GL-4/GL...</td>\n",
       "      <td>192629</td>\n",
       "      <td>1 103 руб.</td>\n",
       "    </tr>\n",
       "    <tr>\n",
       "      <th>37</th>\n",
       "      <td>ГСМ (смазки и жидкости)</td>\n",
       "      <td>Масло трансмиссионное LUKOIL MN 75W-90 КамАЗ</td>\n",
       "      <td>3505928</td>\n",
       "      <td>1 526 руб.</td>\n",
       "    </tr>\n",
       "    <tr>\n",
       "      <th>38</th>\n",
       "      <td>ГСМ (смазки и жидкости)</td>\n",
       "      <td>Масло моторное KAMAZ G-Profi Service Line NEO ...</td>\n",
       "      <td>253190694</td>\n",
       "      <td>677 руб.</td>\n",
       "    </tr>\n",
       "    <tr>\n",
       "      <th>39</th>\n",
       "      <td>ГСМ (смазки и жидкости)</td>\n",
       "      <td>Масло трансмиссионное KAMAZ G-PROFI SL 80W-90 ...</td>\n",
       "      <td>253650125</td>\n",
       "      <td>370 руб.</td>\n",
       "    </tr>\n",
       "  </tbody>\n",
       "</table>\n",
       "</div>"
      ]
     },
     "execution_count": 12,
     "metadata": {},
     "output_type": "execute_result"
    }
   ],
   "execution_count": 12
  }
 ],
 "metadata": {
  "kernelspec": {
   "display_name": "Python 3",
   "language": "python",
   "name": "python3"
  },
  "language_info": {
   "codemirror_mode": {
    "name": "ipython",
    "version": 2
   },
   "file_extension": ".py",
   "mimetype": "text/x-python",
   "name": "python",
   "nbconvert_exporter": "python",
   "pygments_lexer": "ipython2",
   "version": "2.7.6"
  }
 },
 "nbformat": 4,
 "nbformat_minor": 5
}
